{
  "nbformat": 4,
  "nbformat_minor": 0,
  "metadata": {
    "colab": {
      "provenance": [],
      "machine_shape": "hm",
      "authorship_tag": "ABX9TyM8AWJGt336op5mGPBtVj63",
      "include_colab_link": true
    },
    "kernelspec": {
      "name": "python3",
      "display_name": "Python 3"
    },
    "language_info": {
      "name": "python"
    },
    "accelerator": "GPU",
    "gpuClass": "premium"
  },
  "cells": [
    {
      "cell_type": "markdown",
      "metadata": {
        "id": "view-in-github",
        "colab_type": "text"
      },
      "source": [
        "<a href=\"https://colab.research.google.com/github/nhuang37/untrain_MPNN/blob/main/Untrain_MPNN_experiments.ipynb\" target=\"_parent\"><img src=\"https://colab.research.google.com/assets/colab-badge.svg\" alt=\"Open In Colab\"/></a>"
      ]
    },
    {
      "cell_type": "markdown",
      "source": [
        "#### Imports"
      ],
      "metadata": {
        "id": "C7LbL4S2kg8A"
      }
    },
    {
      "cell_type": "code",
      "execution_count": 1,
      "metadata": {
        "colab": {
          "base_uri": "https://localhost:8080/"
        },
        "id": "c1d-RauXjTTR",
        "outputId": "754f61ff-2208-46e4-b48a-d46b5f93b619"
      },
      "outputs": [
        {
          "output_type": "stream",
          "name": "stdout",
          "text": [
            "Mounted at /content/drive\n"
          ]
        }
      ],
      "source": [
        "from google.colab import drive\n",
        "#drive.flush_and_unmount()\n",
        "drive.mount(\"/content/drive\")"
      ]
    },
    {
      "cell_type": "code",
      "source": [
        "%cd /content/drive/MyDrive/JHU/Untrain_GNN/"
      ],
      "metadata": {
        "colab": {
          "base_uri": "https://localhost:8080/"
        },
        "id": "htlP7Y6IjihS",
        "outputId": "4cab3d2d-c67f-492d-ea1e-96ebd5dae4d6"
      },
      "execution_count": 2,
      "outputs": [
        {
          "output_type": "stream",
          "name": "stdout",
          "text": [
            "/content/drive/MyDrive/JHU/Untrain_GNN\n"
          ]
        }
      ]
    },
    {
      "cell_type": "code",
      "source": [
        "import os\n",
        "import torch\n",
        "os.environ['TORCH'] = torch.__version__\n",
        "print(torch.__version__)\n",
        "\n",
        "!pip install -q torch-scatter -f https://data.pyg.org/whl/torch-${TORCH}.html\n",
        "!pip install -q torch-sparse -f https://data.pyg.org/whl/torch-${TORCH}.html\n",
        "!pip install -q torch-cluster -f https://data.pyg.org/whl/torch-${TORCH}.html\n",
        "!pip install -q git+https://github.com/pyg-team/pytorch_geometric.git"
      ],
      "metadata": {
        "colab": {
          "base_uri": "https://localhost:8080/"
        },
        "id": "xpd8WFQejwun",
        "outputId": "1b6fabfb-5f15-473c-cdb9-1032e5306289"
      },
      "execution_count": 3,
      "outputs": [
        {
          "output_type": "stream",
          "name": "stdout",
          "text": [
            "1.13.1+cu116\n",
            "\u001b[2K     \u001b[90m━━━━━━━━━━━━━━━━━━━━━━━━━━━━━━━━━━━━━━━━\u001b[0m \u001b[32m9.4/9.4 MB\u001b[0m \u001b[31m58.7 MB/s\u001b[0m eta \u001b[36m0:00:00\u001b[0m\n",
            "\u001b[2K     \u001b[90m━━━━━━━━━━━━━━━━━━━━━━━━━━━━━━━━━━━━━━━━\u001b[0m \u001b[32m4.5/4.5 MB\u001b[0m \u001b[31m81.7 MB/s\u001b[0m eta \u001b[36m0:00:00\u001b[0m\n",
            "\u001b[2K     \u001b[90m━━━━━━━━━━━━━━━━━━━━━━━━━━━━━━━━━━━━━━━━\u001b[0m \u001b[32m3.2/3.2 MB\u001b[0m \u001b[31m76.6 MB/s\u001b[0m eta \u001b[36m0:00:00\u001b[0m\n",
            "\u001b[?25h  Installing build dependencies ... \u001b[?25l\u001b[?25hdone\n",
            "  Getting requirements to build wheel ... \u001b[?25l\u001b[?25hdone\n",
            "  Preparing metadata (pyproject.toml) ... \u001b[?25l\u001b[?25hdone\n",
            "  Building wheel for torch-geometric (pyproject.toml) ... \u001b[?25l\u001b[?25hdone\n"
          ]
        }
      ]
    },
    {
      "cell_type": "code",
      "source": [
        "import math\n",
        "import random\n",
        "import os\n",
        "import numpy as np\n",
        "import scipy as sp\n",
        "import torch\n",
        "import torch.nn as nn\n",
        "import torch.nn.functional as F\n",
        "import matplotlib.pyplot as plt\n",
        "from matplotlib import ticker\n",
        "%matplotlib inline\n",
        "from sklearn import svm, manifold\n",
        "from sklearn.discriminant_analysis import LinearDiscriminantAnalysis\n",
        "from sklearn.neighbors import KNeighborsClassifier\n",
        "from sklearn.metrics import accuracy_score, adjusted_rand_score\n",
        "from sklearn.cluster import KMeans\n",
        "\n",
        "import pickle\n",
        "from torch_geometric.data import Data, InMemoryDataset\n",
        "from torch_geometric.loader import DataLoader\n",
        "from torch_geometric.datasets import TUDataset, zinc\n",
        "from torch_geometric.utils import to_networkx, homophily, erdos_renyi_graph, stochastic_blockmodel_graph\n",
        "from torch_geometric.nn import GINConv, global_mean_pool, global_add_pool\n",
        "from torch.nn import Linear, Sequential, ReLU, Dropout\n",
        "import torch_geometric.transforms as T\n",
        "\n",
        "import time\n",
        "from scipy.sparse.linalg import eigsh, eigs\n",
        "import pandas as pd\n",
        "import seaborn as sns"
      ],
      "metadata": {
        "id": "ZbjU20Ofjz7w"
      },
      "execution_count": 4,
      "outputs": []
    },
    {
      "cell_type": "markdown",
      "source": [
        "### Models"
      ],
      "metadata": {
        "id": "vCPPWFumkgMu"
      }
    },
    {
      "cell_type": "code",
      "source": [
        "def seed_everything(seed: int):\n",
        "    random.seed(seed)\n",
        "    np.random.seed(seed)\n",
        "    torch.manual_seed(seed)\n",
        "    torch.cuda.manual_seed_all(seed)"
      ],
      "metadata": {
        "id": "QMNpmlnZnETZ"
      },
      "execution_count": 5,
      "outputs": []
    },
    {
      "cell_type": "code",
      "source": [
        "class GIN(nn.Module):\n",
        "    def __init__(self, input_dim, hid_dim, num_layers):\n",
        "        super(GIN, self).__init__()\n",
        "        self.conv_in = GINConv( Sequential(Linear(input_dim, hid_dim), ReLU(),\n",
        "                       Linear(hid_dim, hid_dim), ReLU()  ))\n",
        "        self.convs = nn.ModuleList()\n",
        "        for i in range(num_layers - 1):\n",
        "            self.convs.append( GINConv( Sequential(Linear(hid_dim, hid_dim), ReLU(),\n",
        "                       Linear(hid_dim, hid_dim), ReLU() )) )\n",
        "\n",
        "        self.reset_parameters()\n",
        "\n",
        "    def reset_parameters(self):\n",
        "        self.conv_in.reset_parameters()\n",
        "        for layer in self.convs:\n",
        "            layer.reset_parameters()\n",
        "\n",
        "\n",
        "    def forward(self, data):\n",
        "        x, edge_index, batch_index = data.x, data.edge_index, data.batch\n",
        "\n",
        "        x = self.conv_in(x, edge_index)\n",
        "        x = F.relu(x)\n",
        "\n",
        "        #x = F.dropout(x, training=self.training)\n",
        "        for layer in self.convs:\n",
        "          x = layer(x, edge_index)\n",
        "          x = F.relu(x)\n",
        "\n",
        "        #  Readout layer\n",
        "        x = global_add_pool(x, batch_index) #global_mean_pool - GCN, less powerful\n",
        "\n",
        "        return x "
      ],
      "metadata": {
        "id": "QIzbOrrHkMrg"
      },
      "execution_count": 6,
      "outputs": []
    },
    {
      "cell_type": "code",
      "source": [
        "class FeedForwardNet(nn.Module):\n",
        "    def __init__(self, input_dim, hid_dim, out_dim, n_layers, dropout):\n",
        "        super(FeedForwardNet, self).__init__()\n",
        "        self.layers = nn.ModuleList()\n",
        "        self.n_layers = n_layers\n",
        "        self.drop_prop = dropout\n",
        "        if n_layers == 1:\n",
        "            self.layers.append(nn.Linear(input_dim, out_dim))\n",
        "        else:\n",
        "            self.layers.append(nn.Linear(input_dim, hid_dim))\n",
        "            for i in range(n_layers - 2):\n",
        "                self.layers.append(nn.Linear(hid_dim, hid_dim))\n",
        "            self.layers.append(nn.Linear(hid_dim, out_dim))\n",
        "        if dropout > 0:\n",
        "            self.dropout = nn.Dropout(dropout)\n",
        "        self.reset_parameters()\n",
        "\n",
        "    def reset_parameters(self):\n",
        "        gain = nn.init.calculate_gain(\"relu\")\n",
        "        for layer in self.layers:\n",
        "            nn.init.xavier_uniform_(layer.weight, gain=gain)\n",
        "            nn.init.zeros_(layer.bias)\n",
        "\n",
        "    def forward(self, x):\n",
        "        for layer_id, layer in enumerate(self.layers):\n",
        "            x = layer(x)\n",
        "            if layer_id < self.n_layers - 1:\n",
        "              if self.drop_prop > 0:\n",
        "                x = self.dropout(F.relu(x))\n",
        "              else:\n",
        "                x = F.relu(x)\n",
        "        return x"
      ],
      "metadata": {
        "id": "Vfjd0UQln__f"
      },
      "execution_count": 7,
      "outputs": []
    },
    {
      "cell_type": "code",
      "source": [
        "class Net(nn.Module):\n",
        "  def __init__(self, GNN, classifier):\n",
        "    super(Net, self).__init__()\n",
        "    self.GNN = GNN\n",
        "    self.classifier = classifier\n",
        "\n",
        "  def reset_parameters(self):\n",
        "    for (name, module) in self._modules.items():\n",
        "        module.reset_parameters()\n",
        "\n",
        "  def forward(self, x):\n",
        "    embed = self.GNN(x)\n",
        "    pred = self.classifier(embed)\n",
        "    return pred"
      ],
      "metadata": {
        "id": "niG11n-z1t8A"
      },
      "execution_count": 8,
      "outputs": []
    },
    {
      "cell_type": "markdown",
      "source": [
        "### Real-world experiments: GIN on TUDataset (10 runs)\n",
        "\n",
        "| MUTAG | #params (K) |Accuracy ($\\pm$ std) \n",
        "| --- | --- | --- |\n",
        "| Trained | 16.898 | 0.88 (0.12)\n",
        "| Untrained | 4.290 | 0.87 (0.11)\n",
        "\n",
        "\n",
        "---\n",
        "\n",
        "| PROTEINS | #params (K) |Accuracy ($\\pm$ std) \n",
        "| --- | --- | --- |\n",
        "| Trained | 16.898 | 0.72 (0.04)\n",
        "| Untrained | 4.290 | 0.70 (0.03)\n",
        "\n",
        "---\n",
        "\n",
        "\n",
        "\n",
        "| IMDB-BINARY | #params (K) |Accuracy ($\\pm$ std) \n",
        "| --- | --- | --- |\n",
        "| Trained | 16.898 | 0.70 (0.05)\n",
        "| Untrained | 4.290 | 0.69 (0.03)"
      ],
      "metadata": {
        "id": "l1G_BMgr076N"
      }
    },
    {
      "cell_type": "code",
      "source": [
        "def train(model, epoch, loader, optimizer, loss_fcn, device):\n",
        "    model.train()\n",
        "    loss_all = 0\n",
        "\n",
        "    for data in loader:\n",
        "        data = data.to(device)\n",
        "        optimizer.zero_grad()\n",
        "        loss = loss_fcn(model(data), data.y)\n",
        "        loss.backward()\n",
        "        loss_all += data.num_graphs * loss.item()\n",
        "        optimizer.step()\n",
        "    return loss_all / len(loader.dataset)\n",
        "\n",
        "\n",
        "def test(model, loader, device):\n",
        "    model.eval()\n",
        "    correct = 0\n",
        "\n",
        "    for data in loader:\n",
        "        data = data.to(device)\n",
        "        pred = model(data).max(1)[1]\n",
        "        correct += pred.eq(data.y).sum().item()\n",
        "    return correct /len(loader.dataset)"
      ],
      "metadata": {
        "id": "eVcuMbSK1MVK"
      },
      "execution_count": 9,
      "outputs": []
    },
    {
      "cell_type": "code",
      "source": [
        "def train_test_split(dataset, n_runs):\n",
        "    '''\n",
        "    Obtain n_runs of train/valid/test dataset splits (masks)\n",
        "    '''\n",
        "    train_masks, val_masks, test_masks = [], [], []\n",
        "    for i in range(n_runs):\n",
        "      test_mask = torch.zeros(len(dataset), dtype=torch.bool)\n",
        "      n = len(dataset) // 10\n",
        "      test_mask[i * n:(i + 1) * n] = 1\n",
        "      train_dataset = dataset[~test_mask]\n",
        "      n = len(train_dataset) // 10\n",
        "      val_mask = torch.zeros(len(train_dataset), dtype=torch.bool)\n",
        "      val_mask[i * n:(i + 1) * n] = 1\n",
        "      train_mask = ~val_mask\n",
        "      train_masks.append(train_mask)\n",
        "      val_masks.append(val_mask)\n",
        "      test_masks.append(test_mask)\n",
        "    return train_masks, val_masks, test_masks"
      ],
      "metadata": {
        "id": "pbpYN4Ql58gk"
      },
      "execution_count": 10,
      "outputs": []
    },
    {
      "cell_type": "code",
      "source": [
        "def MC_run(dataset, train_masks, val_masks, test_masks, num_epochs = 200, BATCH = 32, lr = 0.01, untrain = True,\n",
        "           input_dim = 1, hid_dim = 64, out_dim = 2, num_layers = 2, dropout = 0.5, verbose = True):\n",
        "  '''\n",
        "  Run (untrained) MPNN on graph classification tasks based on different train/valid/test splits\n",
        "  dataset: Pytorch Geometric dataset\n",
        "  train_masks, val_masks, test_masks: a list of n_runs elements, with each element being a binary mask of length len(dataset)\n",
        "  '''\n",
        "  device = torch.device('cuda' if torch.cuda.is_available() else 'cpu')\n",
        "  GNN_block = GIN(input_dim=input_dim, hid_dim=hid_dim, num_layers=num_layers)\n",
        "  if untrain:\n",
        "    for param in GNN_block.parameters():\n",
        "      param.requires_grad = False\n",
        "\n",
        "  Classifier = FeedForwardNet(input_dim=hid_dim, hid_dim=hid_dim, out_dim=out_dim, n_layers=num_layers, dropout=dropout)\n",
        "  model = Net(GNN_block, Classifier).to(device)\n",
        "\n",
        "  loss_fcn = nn.CrossEntropyLoss()\n",
        "  acc = []\n",
        "  n_runs = len(train_masks)\n",
        "  for i in range(n_runs):\n",
        "      model.reset_parameters()\n",
        "      model_train_params = sum(p.numel() for p in model.parameters() if p.requires_grad)\n",
        "      print(f\"untrain={untrain}, trainable_params={model_train_params}\")\n",
        "      optimizer = torch.optim.Adam(model.parameters(), lr=lr)\n",
        "      scheduler = torch.optim.lr_scheduler.StepLR(optimizer, step_size=50, gamma=0.5)\n",
        "\n",
        "      test_dataset = dataset[test_masks[i]]\n",
        "      train_dataset = dataset[~test_masks[i]]\n",
        "      val_dataset = train_dataset[val_masks[i]]\n",
        "      train_dataset = train_dataset[train_masks[i]]\n",
        "      val_loader = DataLoader(val_dataset, batch_size=BATCH)\n",
        "      test_loader = DataLoader(test_dataset, batch_size=BATCH)\n",
        "      train_loader = DataLoader(train_dataset, batch_size=BATCH, shuffle=True)\n",
        "\n",
        "      if verbose:\n",
        "          print('---------------- Split {} ----------------'.format(i))\n",
        "\n",
        "      best_val_acc, best_test_acc = 0, 0\n",
        "      for epoch in range(1, num_epochs+1):\n",
        "          train_loss = train(model, epoch, train_loader, optimizer, loss_fcn, device)\n",
        "          scheduler.step()\n",
        "\n",
        "          val_acc = test(model, val_loader, device)\n",
        "          test_acc = test(model, test_loader, device)\n",
        "          if verbose and epoch % 50 == 0:\n",
        "              print(f'Epoch:{epoch:03d}, Train_loss: {train_loss:.4f}, Val_acc: {val_acc:.4f}, Test_acc: {test_acc:.4f}')\n",
        "          if best_val_acc <= val_acc:\n",
        "              best_test_acc = test_acc\n",
        "              best_val_acc = val_acc\n",
        "      acc.append(best_test_acc)\n",
        "  acc = torch.tensor(acc)\n",
        "  print('---------------- Final Result ----------------')\n",
        "  print('Mean: {:7f}, Std: {:7f}'.format(acc.mean(), acc.std()))\n",
        "  return acc"
      ],
      "metadata": {
        "id": "CsF97b-F4aZ1"
      },
      "execution_count": 18,
      "outputs": []
    },
    {
      "cell_type": "code",
      "source": [
        "class MyPreTransform(object):\n",
        "    def __call__(self, data):\n",
        "        data.x = torch.ones((data.num_nodes, 1), dtype=torch.float)\n",
        "        return data"
      ],
      "metadata": {
        "id": "c1fwLxWo9Fu8"
      },
      "execution_count": 12,
      "outputs": []
    },
    {
      "cell_type": "code",
      "source": [
        "def main_TUD(data_name='MUTAG', folder_name='./dataset/MUTAG-nofeat', n_runs=10, lr=0.01, num_epochs=200, seed=999, verbose=False):\n",
        "  '''\n",
        "  Main function call to run experiments on TUD datasets\n",
        "  '''\n",
        "  seed_everything(seed)\n",
        "  dataset = TUDataset(root=folder_name, name=data_name,  use_node_attr=True, pre_transform=T.Compose([MyPreTransform()]))\n",
        "  dataset = dataset.shuffle()\n",
        "  train_masks, val_masks, test_masks = train_test_split(dataset, n_runs)\n",
        "  out_dim = len(dataset.data.y.unique())\n",
        "  #print(out_dim)\n",
        "  acc_trained = MC_run(dataset, train_masks, val_masks, test_masks, num_epochs, out_dim=out_dim, lr=lr, untrain=False, verbose=verbose)\n",
        "  acc_untrain = MC_run(dataset, train_masks, val_masks, test_masks, num_epochs, out_dim=out_dim, lr=lr, untrain=True, verbose=verbose)\n",
        "  return acc_trained, acc_untrain"
      ],
      "metadata": {
        "id": "b4jm_Wlj_SCY"
      },
      "execution_count": 16,
      "outputs": []
    },
    {
      "cell_type": "markdown",
      "source": [
        "#### MUTAG"
      ],
      "metadata": {
        "id": "PZ59gtPW-qC8"
      }
    },
    {
      "cell_type": "code",
      "source": [
        "acc_mutag, acc_untrain_mutag = main_TUD(data_name='MUTAG', folder_name='./dataset/MUTAG-nofeat', n_runs=10, seed=99, verbose=True)"
      ],
      "metadata": {
        "colab": {
          "base_uri": "https://localhost:8080/"
        },
        "id": "cpekkZ9I_2k6",
        "outputId": "428241df-c211-4328-f222-01b581fea736"
      },
      "execution_count": 19,
      "outputs": [
        {
          "output_type": "stream",
          "name": "stderr",
          "text": [
            "/usr/local/lib/python3.9/dist-packages/torch_geometric/data/in_memory_dataset.py:157: UserWarning: It is not recommended to directly access the internal storage format `data` of an 'InMemoryDataset'. The given 'InMemoryDataset' only references a subset of examples of the full dataset, but 'data' will contain information of the full dataset. If you are absolutely certain what you are doing, access the internal storage via `InMemoryDataset._data` instead to suppress this warning. Alternatively, you can access stacked individual attributes of every graph via `dataset.{attr_name}`.\n",
            "  warnings.warn(msg)\n"
          ]
        },
        {
          "output_type": "stream",
          "name": "stdout",
          "text": [
            "untrain=False, trainable_params=16898\n",
            "---------------- Split 0 ----------------\n",
            "Epoch:050, Train_loss: 0.4881, Val_acc: 0.8824, Test_acc: 0.9444\n",
            "Epoch:100, Train_loss: 0.4403, Val_acc: 0.5882, Test_acc: 0.7222\n",
            "Epoch:150, Train_loss: 0.4201, Val_acc: 0.8235, Test_acc: 0.8889\n",
            "Epoch:200, Train_loss: 0.3463, Val_acc: 0.8235, Test_acc: 0.8889\n",
            "untrain=False, trainable_params=16898\n",
            "---------------- Split 1 ----------------\n",
            "Epoch:050, Train_loss: 0.5182, Val_acc: 0.8824, Test_acc: 0.8333\n",
            "Epoch:100, Train_loss: 0.3434, Val_acc: 1.0000, Test_acc: 0.7778\n",
            "Epoch:150, Train_loss: 0.3367, Val_acc: 1.0000, Test_acc: 0.7778\n",
            "Epoch:200, Train_loss: 0.3171, Val_acc: 1.0000, Test_acc: 0.7778\n",
            "untrain=False, trainable_params=16898\n",
            "---------------- Split 2 ----------------\n",
            "Epoch:050, Train_loss: 0.5146, Val_acc: 0.9412, Test_acc: 1.0000\n",
            "Epoch:100, Train_loss: 0.4731, Val_acc: 0.9412, Test_acc: 1.0000\n",
            "Epoch:150, Train_loss: 0.3813, Val_acc: 0.9412, Test_acc: 1.0000\n",
            "Epoch:200, Train_loss: 0.3570, Val_acc: 0.8235, Test_acc: 1.0000\n",
            "untrain=False, trainable_params=16898\n",
            "---------------- Split 3 ----------------\n",
            "Epoch:050, Train_loss: 0.5684, Val_acc: 0.7059, Test_acc: 0.7222\n",
            "Epoch:100, Train_loss: 0.4547, Val_acc: 0.7647, Test_acc: 0.7778\n",
            "Epoch:150, Train_loss: 0.4039, Val_acc: 0.9412, Test_acc: 1.0000\n",
            "Epoch:200, Train_loss: 0.3894, Val_acc: 0.8824, Test_acc: 0.9444\n",
            "untrain=False, trainable_params=16898\n",
            "---------------- Split 4 ----------------\n",
            "Epoch:050, Train_loss: 0.5434, Val_acc: 0.7059, Test_acc: 0.6667\n",
            "Epoch:100, Train_loss: 0.4332, Val_acc: 0.8235, Test_acc: 0.8333\n",
            "Epoch:150, Train_loss: 0.3962, Val_acc: 0.8824, Test_acc: 0.8333\n",
            "Epoch:200, Train_loss: 0.3696, Val_acc: 0.8824, Test_acc: 0.9444\n",
            "untrain=False, trainable_params=16898\n",
            "---------------- Split 5 ----------------\n",
            "Epoch:050, Train_loss: 0.4309, Val_acc: 1.0000, Test_acc: 0.9444\n",
            "Epoch:100, Train_loss: 0.4568, Val_acc: 0.7647, Test_acc: 0.6667\n",
            "Epoch:150, Train_loss: 0.3796, Val_acc: 1.0000, Test_acc: 0.8889\n",
            "Epoch:200, Train_loss: 0.3767, Val_acc: 1.0000, Test_acc: 0.9444\n",
            "untrain=False, trainable_params=16898\n",
            "---------------- Split 6 ----------------\n",
            "Epoch:050, Train_loss: 0.4659, Val_acc: 0.8235, Test_acc: 0.9444\n",
            "Epoch:100, Train_loss: 0.3925, Val_acc: 0.8235, Test_acc: 1.0000\n",
            "Epoch:150, Train_loss: 0.3583, Val_acc: 0.7647, Test_acc: 0.9444\n",
            "Epoch:200, Train_loss: 0.3427, Val_acc: 0.8235, Test_acc: 0.9444\n",
            "untrain=False, trainable_params=16898\n",
            "---------------- Split 7 ----------------\n",
            "Epoch:050, Train_loss: 0.4061, Val_acc: 0.8235, Test_acc: 0.7222\n",
            "Epoch:100, Train_loss: 0.3787, Val_acc: 0.8824, Test_acc: 0.7222\n",
            "Epoch:150, Train_loss: 0.3605, Val_acc: 0.8824, Test_acc: 0.7222\n",
            "Epoch:200, Train_loss: 0.3504, Val_acc: 0.8824, Test_acc: 0.7222\n",
            "untrain=False, trainable_params=16898\n",
            "---------------- Split 8 ----------------\n",
            "Epoch:050, Train_loss: 0.4242, Val_acc: 0.7059, Test_acc: 0.8889\n",
            "Epoch:100, Train_loss: 0.3793, Val_acc: 0.7647, Test_acc: 0.8333\n",
            "Epoch:150, Train_loss: 0.4004, Val_acc: 0.7647, Test_acc: 0.8333\n",
            "Epoch:200, Train_loss: 0.2950, Val_acc: 0.7647, Test_acc: 0.8333\n",
            "untrain=False, trainable_params=16898\n",
            "---------------- Split 9 ----------------\n",
            "Epoch:050, Train_loss: 0.4114, Val_acc: 0.8235, Test_acc: 0.6111\n",
            "Epoch:100, Train_loss: 0.4156, Val_acc: 0.8824, Test_acc: 0.6667\n",
            "Epoch:150, Train_loss: 0.3001, Val_acc: 0.8235, Test_acc: 0.6667\n",
            "Epoch:200, Train_loss: 0.3154, Val_acc: 0.7647, Test_acc: 0.5556\n",
            "---------------- Final Result ----------------\n",
            "Mean: 0.872222, Std: 0.128434\n",
            "untrain=True, trainable_params=4290\n",
            "---------------- Split 0 ----------------\n",
            "Epoch:050, Train_loss: 0.6388, Val_acc: 0.8824, Test_acc: 0.7222\n",
            "Epoch:100, Train_loss: 0.5487, Val_acc: 0.7647, Test_acc: 0.7222\n",
            "Epoch:150, Train_loss: 0.5188, Val_acc: 0.8824, Test_acc: 0.9444\n",
            "Epoch:200, Train_loss: 0.5085, Val_acc: 0.7647, Test_acc: 0.8333\n",
            "untrain=True, trainable_params=4290\n",
            "---------------- Split 1 ----------------\n",
            "Epoch:050, Train_loss: 0.5416, Val_acc: 0.8235, Test_acc: 0.8333\n",
            "Epoch:100, Train_loss: 0.4701, Val_acc: 0.9412, Test_acc: 0.7222\n",
            "Epoch:150, Train_loss: 0.4430, Val_acc: 1.0000, Test_acc: 0.7778\n",
            "Epoch:200, Train_loss: 0.3882, Val_acc: 1.0000, Test_acc: 0.7778\n",
            "untrain=True, trainable_params=4290\n",
            "---------------- Split 2 ----------------\n",
            "Epoch:050, Train_loss: 0.5401, Val_acc: 0.5294, Test_acc: 0.6667\n",
            "Epoch:100, Train_loss: 0.4674, Val_acc: 0.6471, Test_acc: 0.7222\n",
            "Epoch:150, Train_loss: 0.4812, Val_acc: 0.5294, Test_acc: 0.6667\n",
            "Epoch:200, Train_loss: 0.4974, Val_acc: 0.5294, Test_acc: 0.6667\n",
            "untrain=True, trainable_params=4290\n",
            "---------------- Split 3 ----------------\n",
            "Epoch:050, Train_loss: 0.4948, Val_acc: 0.7647, Test_acc: 0.7778\n",
            "Epoch:100, Train_loss: 0.4554, Val_acc: 0.8235, Test_acc: 0.7778\n",
            "Epoch:150, Train_loss: 0.4395, Val_acc: 0.8824, Test_acc: 0.8333\n",
            "Epoch:200, Train_loss: 0.4192, Val_acc: 0.9412, Test_acc: 1.0000\n",
            "untrain=True, trainable_params=4290\n",
            "---------------- Split 4 ----------------\n",
            "Epoch:050, Train_loss: 0.5297, Val_acc: 0.5882, Test_acc: 0.5000\n",
            "Epoch:100, Train_loss: 0.5108, Val_acc: 0.7059, Test_acc: 0.6667\n",
            "Epoch:150, Train_loss: 0.5119, Val_acc: 0.5882, Test_acc: 0.5000\n",
            "Epoch:200, Train_loss: 0.4639, Val_acc: 0.5882, Test_acc: 0.5000\n",
            "untrain=True, trainable_params=4290\n",
            "---------------- Split 5 ----------------\n",
            "Epoch:050, Train_loss: 0.5257, Val_acc: 0.5882, Test_acc: 0.5556\n",
            "Epoch:100, Train_loss: 0.5192, Val_acc: 0.7647, Test_acc: 0.6667\n",
            "Epoch:150, Train_loss: 0.4893, Val_acc: 0.8235, Test_acc: 0.7778\n",
            "Epoch:200, Train_loss: 0.4881, Val_acc: 0.9412, Test_acc: 0.8333\n",
            "untrain=True, trainable_params=4290\n",
            "---------------- Split 6 ----------------\n",
            "Epoch:050, Train_loss: 0.6017, Val_acc: 0.5882, Test_acc: 0.6667\n",
            "Epoch:100, Train_loss: 0.5279, Val_acc: 0.7059, Test_acc: 0.8333\n",
            "Epoch:150, Train_loss: 0.5407, Val_acc: 0.8235, Test_acc: 0.9444\n",
            "Epoch:200, Train_loss: 0.4667, Val_acc: 0.7059, Test_acc: 0.8889\n",
            "untrain=True, trainable_params=4290\n",
            "---------------- Split 7 ----------------\n",
            "Epoch:050, Train_loss: 0.5264, Val_acc: 0.8235, Test_acc: 0.6667\n",
            "Epoch:100, Train_loss: 0.4802, Val_acc: 0.9412, Test_acc: 0.7222\n",
            "Epoch:150, Train_loss: 0.4353, Val_acc: 0.8824, Test_acc: 0.8333\n",
            "Epoch:200, Train_loss: 0.4030, Val_acc: 0.8824, Test_acc: 0.7778\n",
            "untrain=True, trainable_params=4290\n",
            "---------------- Split 8 ----------------\n",
            "Epoch:050, Train_loss: 0.4666, Val_acc: 0.8824, Test_acc: 0.8333\n",
            "Epoch:100, Train_loss: 0.4353, Val_acc: 0.7647, Test_acc: 0.8333\n",
            "Epoch:150, Train_loss: 0.3808, Val_acc: 0.7647, Test_acc: 0.8333\n",
            "Epoch:200, Train_loss: 0.4248, Val_acc: 0.7647, Test_acc: 0.8333\n",
            "untrain=True, trainable_params=4290\n",
            "---------------- Split 9 ----------------\n",
            "Epoch:050, Train_loss: 0.5100, Val_acc: 0.7647, Test_acc: 0.5000\n",
            "Epoch:100, Train_loss: 0.5233, Val_acc: 0.8235, Test_acc: 0.7222\n",
            "Epoch:150, Train_loss: 0.4738, Val_acc: 0.8235, Test_acc: 0.7222\n",
            "Epoch:200, Train_loss: 0.4608, Val_acc: 0.8824, Test_acc: 0.7222\n",
            "---------------- Final Result ----------------\n",
            "Mean: 0.872222, Std: 0.108139\n"
          ]
        }
      ]
    },
    {
      "cell_type": "markdown",
      "source": [
        "#### PROTEINS"
      ],
      "metadata": {
        "id": "ddxMXl1x-oCT"
      }
    },
    {
      "cell_type": "code",
      "source": [
        "acc_p, acc_untrain_p = main_TUD(data_name='PROTEINS', folder_name='./dataset/PROTEINS-nofeat', lr=0.01, num_epochs=300, \n",
        "                                          n_runs=10, seed=99, verbose=False)"
      ],
      "metadata": {
        "colab": {
          "base_uri": "https://localhost:8080/"
        },
        "id": "JbS1Z-T1EAJQ",
        "outputId": "8113915e-6274-4911-d62d-b2168c93a840"
      },
      "execution_count": 36,
      "outputs": [
        {
          "output_type": "stream",
          "name": "stdout",
          "text": [
            "2\n",
            "trainable_params=16898\n",
            "---------------- Final Result ----------------\n",
            "Mean: 0.719820, Std: 0.040613\n",
            "trainable_params=4290\n",
            "---------------- Final Result ----------------\n",
            "Mean: 0.701802, Std: 0.034619\n"
          ]
        }
      ]
    },
    {
      "cell_type": "markdown",
      "source": [
        "#### IMDB-BINARY"
      ],
      "metadata": {
        "id": "d0WVXfLy-xqc"
      }
    },
    {
      "cell_type": "code",
      "source": [
        "acc_imdb, acc_untrain_imdb = main_TUD(data_name='IMDB-BINARY', folder_name='./dataset/IMDB-nofeat', lr=0.001, num_epochs=200, \n",
        "                                          n_runs=10, seed=99, verbose=False)"
      ],
      "metadata": {
        "colab": {
          "base_uri": "https://localhost:8080/"
        },
        "id": "MdECZuc66xDa",
        "outputId": "915313d9-796b-49ac-f36b-dbfefb457535"
      },
      "execution_count": 47,
      "outputs": [
        {
          "output_type": "stream",
          "name": "stdout",
          "text": [
            "2\n",
            "trainable_params=16898\n",
            "---------------- Final Result ----------------\n",
            "Mean: 0.696000, Std: 0.046951\n",
            "trainable_params=4290\n",
            "---------------- Final Result ----------------\n",
            "Mean: 0.693000, Std: 0.033015\n"
          ]
        }
      ]
    },
    {
      "cell_type": "markdown",
      "source": [
        "### Simulation: SBM(p,q)\n",
        "- easy: p = q (i.e., Erdos-Renyi graph); p >> q\n",
        "- hard: p = q; p ~= q"
      ],
      "metadata": {
        "id": "frPJADl75R90"
      }
    },
    {
      "cell_type": "code",
      "source": [
        "#config\n",
        "num_graphs = 100\n",
        "n = 50\n",
        "p = 0.5\n",
        "qs = [0.1, 0.3, 0.4, 0.45]\n",
        "ER_set, SBM_dicts = [], {0.1:[], 0.3:[], 0.4:[], 0.45:[]}\n",
        "#constant node features\n",
        "x = torch.ones((n, 1), dtype=torch.float)\n",
        "#simulate graphs\n",
        "for i in range(num_graphs):\n",
        "  ER_set.append(Data(x=x, edge_index=erdos_renyi_graph(n, p, directed=False), y=torch.zeros(1)))\n",
        "  for q in qs:\n",
        "    SBM_dicts[q].append(\n",
        "        Data(x=x, edge_index=stochastic_blockmodel_graph([n//2, n//2], [[p, q],[q, p]], directed=False),\n",
        "            y=torch.ones(1)))\n"
      ],
      "metadata": {
        "id": "t3t-8aXH6AMt"
      },
      "execution_count": 48,
      "outputs": []
    },
    {
      "cell_type": "code",
      "source": [
        "#data loader\n",
        "ER_set = DataLoader(ER_set, batch_size=num_graphs)\n",
        "for key, val in SBM_dicts.items():\n",
        "  SBM_dicts[key] = DataLoader(val, batch_size=num_graphs)\n"
      ],
      "metadata": {
        "id": "T-ROtfhK98i9"
      },
      "execution_count": 49,
      "outputs": []
    },
    {
      "cell_type": "code",
      "source": [
        "#untrain GNN\n",
        "input_dim = 1 \n",
        "hid_dim = 32\n",
        "num_layers = 2\n",
        "GNN_block = GIN(input_dim=input_dim, hid_dim=hid_dim, num_layers=num_layers)\n",
        "for param in GNN_block.parameters():\n",
        "  param.requires_grad = False"
      ],
      "metadata": {
        "id": "kBDj_KOj8BZM"
      },
      "execution_count": 50,
      "outputs": []
    },
    {
      "cell_type": "code",
      "source": [
        "#forward pass: obtain untrained graph embedding\n",
        "for data in ER_set:\n",
        "  embed_ER = GNN_block(data)\n",
        "\n",
        "embed_SBMs = {}\n",
        "\n",
        "for key, loader in SBM_dicts.items():\n",
        "  for data in loader:\n",
        "    embed_SBMs[key] = GNN_block(data)\n",
        "#post-processing\n",
        "embed_pairs = {}\n",
        "for key, embed in embed_SBMs.items():\n",
        "  embed_pairs[key] = np.vstack( (embed_ER.numpy(), embed.numpy()) )  "
      ],
      "metadata": {
        "id": "RKUdwJvaARvF"
      },
      "execution_count": 51,
      "outputs": []
    },
    {
      "cell_type": "code",
      "source": [
        "#Classification\n",
        "kmeans = KMeans(\n",
        "    n_clusters=2,\n",
        "    max_iter=100,\n",
        "    n_init=5,\n",
        ")"
      ],
      "metadata": {
        "id": "Dwi_oRV7JNrB"
      },
      "execution_count": 54,
      "outputs": []
    },
    {
      "cell_type": "code",
      "source": [
        "labels = np.hstack( (np.zeros(num_graphs), np.ones(num_graphs)) )\n",
        "ARIs = []\n",
        "for key, pair in embed_pairs.items():\n",
        "  kmeans.fit(pair)\n",
        "  ARI = adjusted_rand_score(labels, kmeans.labels_)\n",
        "  ARIs.append(ARI)\n",
        "  print(f\"q={key}: ARI={ARI}\")"
      ],
      "metadata": {
        "colab": {
          "base_uri": "https://localhost:8080/"
        },
        "id": "GlM1cuoAHnl9",
        "outputId": "0184594e-7745-4d23-90ac-e0a54d701351"
      },
      "execution_count": 55,
      "outputs": [
        {
          "output_type": "stream",
          "name": "stdout",
          "text": [
            "q=0.1: ARI=1.0\n",
            "q=0.3: ARI=1.0\n",
            "q=0.4: ARI=0.9020080211756614\n",
            "q=0.45: ARI=0.39390577268909877\n"
          ]
        }
      ]
    },
    {
      "cell_type": "code",
      "source": [
        "t_sne = manifold.TSNE(\n",
        "    n_components=2,\n",
        "    perplexity=30,\n",
        "    init=\"random\",\n",
        "    n_iter=250,\n",
        "    random_state=0,\n",
        ")\n",
        "embed_easy = t_sne.fit_transform(embed_pairs[0.1])\n",
        "embed_hard = t_sne.fit_transform(embed_pairs[0.45])\n"
      ],
      "metadata": {
        "id": "yr0x6BT_D7DM"
      },
      "execution_count": 56,
      "outputs": []
    },
    {
      "cell_type": "code",
      "source": [
        "colors = np.vstack( (np.zeros(num_graphs), np.ones(num_graphs)) )\n",
        "fig, ax = plt.subplots(figsize=(3, 3), facecolor=\"white\", constrained_layout=True)\n",
        "fig.suptitle(\"Classify ER vs SBM: easy\", size=16)\n",
        "\n",
        "ax.scatter(embed_easy[:,0], embed_easy[:,1], c=colors, s=50, alpha=0.8)\n",
        "ax.xaxis.set_major_formatter(ticker.NullFormatter())\n",
        "ax.yaxis.set_major_formatter(ticker.NullFormatter())\n",
        "\n",
        "plt.show()\n"
      ],
      "metadata": {
        "colab": {
          "base_uri": "https://localhost:8080/",
          "height": 241
        },
        "id": "HlD32qCvE5nf",
        "outputId": "8fe94658-5faa-4c3b-e298-ee3c864391e0"
      },
      "execution_count": 59,
      "outputs": [
        {
          "output_type": "display_data",
          "data": {
            "text/plain": [
              "<Figure size 216x216 with 1 Axes>"
            ],
            "image/png": "[encoded data removed]"
          },
          "metadata": {}
        }
      ]
    },
    {
      "cell_type": "code",
      "source": [
        "fig, ax = plt.subplots(figsize=(3, 3), facecolor=\"white\", constrained_layout=True)\n",
        "fig.suptitle(\"Classify ER vs SBM: hard\", size=16)\n",
        "\n",
        "ax.scatter(embed_hard[:,0], embed_hard[:,1], c=colors, s=50, alpha=0.8)\n",
        "ax.xaxis.set_major_formatter(ticker.NullFormatter())\n",
        "ax.yaxis.set_major_formatter(ticker.NullFormatter())\n",
        "\n",
        "plt.show()"
      ],
      "metadata": {
        "colab": {
          "base_uri": "https://localhost:8080/",
          "height": 241
        },
        "id": "HgIiWfNFFnUM",
        "outputId": "b580bad3-f003-46d4-ec87-ac7ca664dd1a"
      },
      "execution_count": 60,
      "outputs": [
        {
          "output_type": "display_data",
          "data": {
            "text/plain": [
              "<Figure size 216x216 with 1 Axes>"
            ],
            "image/png": "[encoded data removed]"
          },
          "metadata": {}
        }
      ]
    },
    {
      "cell_type": "code",
      "source": [],
      "metadata": {
        "id": "6oj7u4HSJeQg"
      },
      "execution_count": 25,
      "outputs": []
    },
    {
      "cell_type": "markdown",
      "source": [
        "Remarks:\n",
        "- Different from SGC/power-iteration: essentially simulate WL algorithm, so the MLP per layer is needed to simulate injective map (although such MLPs do not need to be trained in order to preserve injectiveness!)\n",
        "\n",
        "- Different from random feature initialization; here we assume constant feature but use random weights"
      ],
      "metadata": {
        "id": "SC-oZwzbIwzE"
      }
    },
    {
      "cell_type": "code",
      "source": [],
      "metadata": {
        "id": "OWtTkG0SJAra"
      },
      "execution_count": 25,
      "outputs": []
    },
    {
      "cell_type": "code",
      "source": [],
      "metadata": {
        "id": "PUjnvTQ8Qn0E"
      },
      "execution_count": 25,
      "outputs": []
    }
  ]
}