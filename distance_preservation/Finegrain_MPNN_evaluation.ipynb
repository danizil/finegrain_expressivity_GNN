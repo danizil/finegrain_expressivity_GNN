{
  "nbformat": 4,
  "nbformat_minor": 0,
  "metadata": {
    "colab": {
      "provenance": [],
      "machine_shape": "hm",
      "authorship_tag": "ABX9TyOSYuT+bBLJZRcirK5wABre",
      "include_colab_link": true
    },
    "kernelspec": {
      "name": "python3",
      "display_name": "Python 3"
    },
    "language_info": {
      "name": "python"
    },
    "accelerator": "GPU",
    "gpuClass": "premium"
  },
  "cells": [
    {
      "cell_type": "markdown",
      "metadata": {
        "id": "view-in-github",
        "colab_type": "text"
      },
      "source": [
        "<a href=\"https://colab.research.google.com/github/nhuang37/untrain_MPNN/blob/main/Finegrain_MPNN_evaluation.ipynb\" target=\"_parent\"><img src=\"https://colab.research.google.com/assets/colab-badge.svg\" alt=\"Open In Colab\"/></a>"
      ]
    },
    {
      "cell_type": "code",
      "execution_count": 1,
      "metadata": {
        "colab": {
          "base_uri": "https://localhost:8080/"
        },
        "id": "znou_p5acQEv",
        "outputId": "5a760e91-283d-475a-9803-e44b04d09070"
      },
      "outputs": [
        {
          "output_type": "stream",
          "name": "stdout",
          "text": [
            "Drive not mounted, so nothing to flush and unmount.\n",
            "Mounted at /content/drive\n"
          ]
        }
      ],
      "source": [
        "from google.colab import drive\n",
        "drive.flush_and_unmount()\n",
        "drive.mount(\"/content/drive\")"
      ]
    },
    {
      "cell_type": "code",
      "source": [
        "%cd /content/drive/MyDrive/JHU/Untrain_GNN/"
      ],
      "metadata": {
        "colab": {
          "base_uri": "https://localhost:8080/"
        },
        "id": "DXTmYRjccc3k",
        "outputId": "7284f47e-754e-4270-f11e-771528f4ece4"
      },
      "execution_count": 2,
      "outputs": [
        {
          "output_type": "stream",
          "name": "stdout",
          "text": [
            "/content/drive/MyDrive/JHU/Untrain_GNN\n"
          ]
        }
      ]
    },
    {
      "cell_type": "code",
      "source": [
        "!pip install scipy==1.10.0"
      ],
      "metadata": {
        "colab": {
          "base_uri": "https://localhost:8080/"
        },
        "id": "fBVlymxOcxcs",
        "outputId": "4303525f-44fe-458d-b316-3d9350fb6b8e"
      },
      "execution_count": 3,
      "outputs": [
        {
          "output_type": "stream",
          "name": "stdout",
          "text": [
            "Looking in indexes: https://pypi.org/simple, https://us-python.pkg.dev/colab-wheels/public/simple/\n",
            "Collecting scipy==1.10.0\n",
            "  Downloading scipy-1.10.0-cp39-cp39-manylinux_2_17_x86_64.manylinux2014_x86_64.whl (34.4 MB)\n",
            "\u001b[2K     \u001b[90m━━━━━━━━━━━━━━━━━━━━━━━━━━━━━━━━━━━━━━━━\u001b[0m \u001b[32m34.4/34.4 MB\u001b[0m \u001b[31m42.1 MB/s\u001b[0m eta \u001b[36m0:00:00\u001b[0m\n",
            "\u001b[?25hRequirement already satisfied: numpy<1.27.0,>=1.19.5 in /usr/local/lib/python3.9/dist-packages (from scipy==1.10.0) (1.22.4)\n",
            "Installing collected packages: scipy\n",
            "  Attempting uninstall: scipy\n",
            "    Found existing installation: scipy 1.10.1\n",
            "    Uninstalling scipy-1.10.1:\n",
            "      Successfully uninstalled scipy-1.10.1\n",
            "Successfully installed scipy-1.10.0\n"
          ]
        }
      ]
    },
    {
      "cell_type": "code",
      "source": [
        "import os\n",
        "import torch\n",
        "os.environ['TORCH'] = torch.__version__\n",
        "print(torch.__version__)\n",
        "\n",
        "!pip install -q torch-scatter -f https://data.pyg.org/whl/torch-${TORCH}.html\n",
        "!pip install -q torch-sparse -f https://data.pyg.org/whl/torch-${TORCH}.html\n",
        "!pip install -q torch-cluster -f https://data.pyg.org/whl/torch-${TORCH}.html\n",
        "!pip install -q git+https://github.com/pyg-team/pytorch_geometric.git"
      ],
      "metadata": {
        "colab": {
          "base_uri": "https://localhost:8080/"
        },
        "id": "YQZcsO3NgbDw",
        "outputId": "2e4af083-1d7e-433f-8570-c21ab77fdeac"
      },
      "execution_count": 4,
      "outputs": [
        {
          "output_type": "stream",
          "name": "stdout",
          "text": [
            "2.0.0+cu118\n",
            "\u001b[2K     \u001b[90m━━━━━━━━━━━━━━━━━━━━━━━━━━━━━━━━━━━━━━━━\u001b[0m \u001b[32m10.2/10.2 MB\u001b[0m \u001b[31m24.7 MB/s\u001b[0m eta \u001b[36m0:00:00\u001b[0m\n",
            "\u001b[2K     \u001b[90m━━━━━━━━━━━━━━━━━━━━━━━━━━━━━━━━━━━━━━━━\u001b[0m \u001b[32m4.8/4.8 MB\u001b[0m \u001b[31m31.2 MB/s\u001b[0m eta \u001b[36m0:00:00\u001b[0m\n",
            "\u001b[2K     \u001b[90m━━━━━━━━━━━━━━━━━━━━━━━━━━━━━━━━━━━━━━━━\u001b[0m \u001b[32m3.3/3.3 MB\u001b[0m \u001b[31m25.7 MB/s\u001b[0m eta \u001b[36m0:00:00\u001b[0m\n",
            "\u001b[?25h  Installing build dependencies ... \u001b[?25l\u001b[?25hdone\n",
            "  Getting requirements to build wheel ... \u001b[?25l\u001b[?25hdone\n",
            "  Preparing metadata (pyproject.toml) ... \u001b[?25l\u001b[?25hdone\n",
            "  Building wheel for torch_geometric (pyproject.toml) ... \u001b[?25l\u001b[?25hdone\n"
          ]
        }
      ]
    },
    {
      "cell_type": "code",
      "source": [
        "import numpy as np\n",
        "import networkx as nx\n",
        "import copy\n",
        "import pydot\n",
        "from networkx.drawing.nx_pydot import graphviz_layout\n",
        "import matplotlib.pyplot as plt\n",
        "from collections import Counter\n",
        "from networkx.generators.nonisomorphic_trees import nonisomorphic_trees\n",
        "import os\n",
        "from sympy.utilities.iterables import multiset_permutations\n",
        "import itertools\n",
        "from itertools import permutations\n",
        "import random\n",
        "\n",
        "from sklearn.neighbors import KNeighborsClassifier\n",
        "from sklearn.metrics import accuracy_score\n",
        "from sklearn.model_selection import train_test_split\n",
        "import pickle\n",
        "np.set_printoptions(precision=4, suppress=True)\n",
        "\n",
        "import distance #credit to Jan\n",
        "#from gnn_architectures import GIN, GINE, GC\n"
      ],
      "metadata": {
        "id": "wehDFMQ9c7jW"
      },
      "execution_count": 5,
      "outputs": []
    },
    {
      "cell_type": "code",
      "source": [
        "import torch.nn as nn\n",
        "import torch.nn.functional as F\n",
        "from torch.nn import Linear, Sequential, ReLU, BatchNorm1d as BN\n",
        "\n",
        "from torch_geometric.utils.convert import from_networkx, from_scipy_sparse_matrix\n",
        "from torch_geometric.data import Data, InMemoryDataset\n",
        "from torch_geometric.loader import DataLoader\n",
        "\n",
        "from torch_geometric.nn import GINConv, GraphConv, GCNConv, global_add_pool\n",
        "from torch_geometric.nn import MessagePassing\n",
        "from torch_geometric.nn.inits import reset\n"
      ],
      "metadata": {
        "id": "kHpJSGeokHLQ"
      },
      "execution_count": 6,
      "outputs": []
    },
    {
      "cell_type": "code",
      "source": [
        "seed = 406\n",
        "random.seed(seed)\n",
        "np.random.seed(seed)\n",
        "torch.manual_seed(seed)\n",
        "torch.cuda.manual_seed_all(seed)"
      ],
      "metadata": {
        "id": "bfDwguxVtM-M"
      },
      "execution_count": 7,
      "outputs": []
    },
    {
      "cell_type": "code",
      "source": [
        "# Taken from https://github.com/rusty1s/pytorch_geometric/blob/master/benchmark/kernel/gin.py.\n",
        "class GIN_rep(torch.nn.Module):\n",
        "    def __init__(self, input_dim, num_layers, hidden, untrain):\n",
        "        super(GIN_rep, self).__init__()\n",
        "        self.conv1 = GINConv(Sequential(\n",
        "            Linear(input_dim, hidden),\n",
        "            ReLU(),\n",
        "            Linear(hidden, hidden),\n",
        "            ReLU(),\n",
        "            BN(hidden),\n",
        "        ),\n",
        "            train_eps=True)\n",
        "\n",
        "        self.untrain = untrain\n",
        "\n",
        "        self.convs = torch.nn.ModuleList()\n",
        "        for i in range(num_layers - 1):\n",
        "            self.convs.append(\n",
        "                GINConv(Sequential(\n",
        "                    Linear(hidden, hidden),\n",
        "                    ReLU(),\n",
        "                    Linear(hidden, hidden),\n",
        "                    ReLU(),\n",
        "                    BN(hidden),\n",
        "                ),\n",
        "                    train_eps=True))\n",
        "\n",
        "\n",
        "    def reset_parameters(self):\n",
        "        self.conv1.reset_parameters()\n",
        "        for conv in self.convs:\n",
        "            conv.reset_parameters()\n",
        "\n",
        "        if self.untrain:\n",
        "            for param in self.conv1.parameters():\n",
        "                param.requires_grad = False\n",
        "\n",
        "            for conv in self.convs:\n",
        "                for param in conv.parameters():\n",
        "                    param.requires_grad = False\n",
        "\n",
        "    def forward(self, data):\n",
        "        x, edge_index, batch = data.x, data.edge_index, data.batch\n",
        "        x = self.conv1(x, edge_index)\n",
        "        for conv in self.convs:\n",
        "            x = conv(x, edge_index)\n",
        "\n",
        "        x = global_add_pool(x, batch)\n",
        "\n",
        "        return x\n",
        "\n",
        "    def __repr__(self):\n",
        "        return self.__class__.__name__\n"
      ],
      "metadata": {
        "id": "rUmyRv-FqEKU"
      },
      "execution_count": 8,
      "outputs": []
    },
    {
      "cell_type": "code",
      "source": [
        "class GC_rep(torch.nn.Module):\n",
        "    def __init__(self, input_dim, num_layers, hidden, untrain):\n",
        "        super(GC_rep, self).__init__()\n",
        "        self.conv1 = GraphConv(input_dim, hidden)\n",
        "        self.convs = torch.nn.ModuleList()\n",
        "        for i in range(num_layers - 1):\n",
        "            self.convs.append(GraphConv(hidden, hidden))\n",
        "\n",
        "        self.untrain = untrain\n",
        "\n",
        "    def reset_parameters(self):\n",
        "        self.conv1.reset_parameters()\n",
        "        for conv in self.convs:\n",
        "            conv.reset_parameters()\n",
        "\n",
        "        if self.untrain:\n",
        "            for param in self.conv1.parameters():\n",
        "                param.requires_grad = False\n",
        "\n",
        "            for conv in self.convs:\n",
        "                for param in conv.parameters():\n",
        "                    param.requires_grad = False\n",
        "\n",
        "    def forward(self, data):\n",
        "        x, edge_index, batch = data.x, data.edge_index, data.batch\n",
        "        x = self.conv1(x, edge_index)\n",
        "\n",
        "        for conv in self.convs:\n",
        "            x = conv(x, edge_index)\n",
        "\n",
        "        x = global_add_pool(x, batch)\n",
        "\n",
        "        return x\n",
        "\n",
        "    def __repr__(self):\n",
        "        return self.__class__.__name__"
      ],
      "metadata": {
        "id": "5Yw4HrKZx2SW"
      },
      "execution_count": 9,
      "outputs": []
    },
    {
      "cell_type": "code",
      "source": [
        "#config\n",
        "def generate_graphs(num_G = 10, n = 30, p = 0.5, q = 0.1, seed=0):\n",
        "  '''\n",
        "  Simulate graphs: \n",
        "  '''\n",
        "  graph_set = []\n",
        "  qs = np.linspace(q, p, num_G) #generate a sequence of SBM graphs tending to ER graph\n",
        "  for i in range(num_G):\n",
        "    graph_set.append(\n",
        "          nx.stochastic_block_model([n//2, n//2], [[p,q],[q,p]], seed=i)\n",
        "      )\n",
        "  return graph_set\n",
        "  "
      ],
      "metadata": {
        "id": "eOXahV2jdXIG"
      },
      "execution_count": 14,
      "outputs": []
    },
    {
      "cell_type": "code",
      "source": [
        "num_G = 50\n",
        "n = 30\n",
        "p = 0.5\n",
        "q = 0.1\n",
        "graphs = generate_graphs(num_G, n, p, q)\n"
      ],
      "metadata": {
        "id": "ElCZArDNnJ56"
      },
      "execution_count": 28,
      "outputs": []
    },
    {
      "cell_type": "code",
      "source": [
        "def compute_seq_distance(graph_set, metric=\"Wasserstein\"):\n",
        "  '''\n",
        "  Compute the distance metric of the graph set w.r.t last element\n",
        "  Return a list of distance with length = |graph_set|\n",
        "  '''\n",
        "  num_G = len(graph_set)\n",
        "  seq_dist = np.zeros(num_G)\n",
        "  for i in range(num_G-1):\n",
        "    if metric == \"Wasserstein\":\n",
        "      dist = distance.demoRun(graph_set[i], graph_set[-1],\"Wasserstein distance\", \"flow, at most 3 iterations after refinement\", \n",
        "                              distance.wassersteinMinCostFlow, convIterationBound = 3)\n",
        "    elif metric == \"Euclidean\":\n",
        "      assert type(graph_set[0]) == torch.Tensor, \"must pass in graph Euclidean embedding!\"\n",
        "      dist = torch.linalg.vector_norm(graph_set[i] - graph_set[-1])\n",
        "    else:\n",
        "      NotImplementedError\n",
        "    seq_dist[i] = dist\n",
        "\n",
        "  return seq_dist"
      ],
      "metadata": {
        "id": "3an2hE4Tee05"
      },
      "execution_count": 29,
      "outputs": []
    },
    {
      "cell_type": "code",
      "source": [
        "graph_dist = compute_seq_distance(graphs)"
      ],
      "metadata": {
        "colab": {
          "base_uri": "https://localhost:8080/"
        },
        "id": "Mgmmo0Lhd9Uw",
        "outputId": "7add74dd-90cd-4f5b-af86-531a568f2cb8"
      },
      "execution_count": 30,
      "outputs": [
        {
          "output_type": "stream",
          "name": "stdout",
          "text": [
            "Wasserstein distance: \t0.05895 [11.77 seconds] (flow, at most 3 iterations after refinement)\n",
            "Wasserstein distance: \t0.02947 [15.45 seconds] (flow, at most 3 iterations after refinement)\n",
            "Wasserstein distance: \t0.04594 [11.79 seconds] (flow, at most 3 iterations after refinement)\n",
            "Wasserstein distance: \t0.04277 [11.73 seconds] (flow, at most 3 iterations after refinement)\n",
            "Wasserstein distance: \t0.03673 [15.15 seconds] (flow, at most 3 iterations after refinement)\n",
            "Wasserstein distance: \t0.03193 [12.23 seconds] (flow, at most 3 iterations after refinement)\n",
            "Wasserstein distance: \t0.03048 [12.42 seconds] (flow, at most 3 iterations after refinement)\n",
            "Wasserstein distance: \t0.01955 [15.92 seconds] (flow, at most 3 iterations after refinement)\n",
            "Wasserstein distance: \t0.03410 [12.10 seconds] (flow, at most 3 iterations after refinement)\n",
            "Wasserstein distance: \t0.03086 [15.76 seconds] (flow, at most 3 iterations after refinement)\n",
            "Wasserstein distance: \t0.04983 [13.41 seconds] (flow, at most 3 iterations after refinement)\n",
            "Wasserstein distance: \t0.02191 [12.19 seconds] (flow, at most 3 iterations after refinement)\n",
            "Wasserstein distance: \t0.03779 [13.22 seconds] (flow, at most 3 iterations after refinement)\n",
            "Wasserstein distance: \t0.03659 [12.84 seconds] (flow, at most 3 iterations after refinement)\n",
            "Wasserstein distance: \t0.03044 [12.99 seconds] (flow, at most 3 iterations after refinement)\n",
            "Wasserstein distance: \t0.02521 [15.71 seconds] (flow, at most 3 iterations after refinement)\n",
            "Wasserstein distance: \t0.03842 [13.10 seconds] (flow, at most 3 iterations after refinement)\n",
            "Wasserstein distance: \t0.03175 [11.97 seconds] (flow, at most 3 iterations after refinement)\n",
            "Wasserstein distance: \t0.02124 [12.22 seconds] (flow, at most 3 iterations after refinement)\n",
            "Wasserstein distance: \t0.03408 [12.97 seconds] (flow, at most 3 iterations after refinement)\n",
            "Wasserstein distance: \t0.04359 [13.23 seconds] (flow, at most 3 iterations after refinement)\n",
            "Wasserstein distance: \t0.04080 [12.68 seconds] (flow, at most 3 iterations after refinement)\n",
            "Wasserstein distance: \t0.04223 [11.48 seconds] (flow, at most 3 iterations after refinement)\n",
            "Wasserstein distance: \t0.01940 [12.12 seconds] (flow, at most 3 iterations after refinement)\n",
            "Wasserstein distance: \t0.03747 [15.11 seconds] (flow, at most 3 iterations after refinement)\n",
            "Wasserstein distance: \t0.04119 [16.79 seconds] (flow, at most 3 iterations after refinement)\n",
            "Wasserstein distance: \t0.02408 [12.61 seconds] (flow, at most 3 iterations after refinement)\n",
            "Wasserstein distance: \t0.04142 [11.84 seconds] (flow, at most 3 iterations after refinement)\n",
            "Wasserstein distance: \t0.05732 [13.46 seconds] (flow, at most 3 iterations after refinement)\n",
            "Wasserstein distance: \t0.02531 [12.38 seconds] (flow, at most 3 iterations after refinement)\n",
            "Wasserstein distance: \t0.02798 [12.39 seconds] (flow, at most 3 iterations after refinement)\n",
            "Wasserstein distance: \t0.03969 [13.10 seconds] (flow, at most 3 iterations after refinement)\n",
            "Wasserstein distance: \t0.03579 [11.77 seconds] (flow, at most 3 iterations after refinement)\n",
            "Wasserstein distance: \t0.06644 [13.50 seconds] (flow, at most 3 iterations after refinement)\n",
            "Wasserstein distance: \t0.02840 [12.47 seconds] (flow, at most 3 iterations after refinement)\n",
            "Wasserstein distance: \t0.05671 [13.86 seconds] (flow, at most 3 iterations after refinement)\n",
            "Wasserstein distance: \t0.03825 [12.59 seconds] (flow, at most 3 iterations after refinement)\n",
            "Wasserstein distance: \t0.02502 [15.82 seconds] (flow, at most 3 iterations after refinement)\n",
            "Wasserstein distance: \t0.03497 [12.11 seconds] (flow, at most 3 iterations after refinement)\n",
            "Wasserstein distance: \t0.02886 [12.85 seconds] (flow, at most 3 iterations after refinement)\n",
            "Wasserstein distance: \t0.02908 [12.31 seconds] (flow, at most 3 iterations after refinement)\n",
            "Wasserstein distance: \t0.03459 [12.39 seconds] (flow, at most 3 iterations after refinement)\n",
            "Wasserstein distance: \t0.01834 [12.01 seconds] (flow, at most 3 iterations after refinement)\n",
            "Wasserstein distance: \t0.04197 [12.14 seconds] (flow, at most 3 iterations after refinement)\n",
            "Wasserstein distance: \t0.02951 [16.38 seconds] (flow, at most 3 iterations after refinement)\n",
            "Wasserstein distance: \t0.03902 [12.17 seconds] (flow, at most 3 iterations after refinement)\n",
            "Wasserstein distance: \t0.01993 [16.01 seconds] (flow, at most 3 iterations after refinement)\n",
            "Wasserstein distance: \t0.05267 [11.63 seconds] (flow, at most 3 iterations after refinement)\n",
            "Wasserstein distance: \t0.03953 [12.35 seconds] (flow, at most 3 iterations after refinement)\n"
          ]
        }
      ]
    },
    {
      "cell_type": "code",
      "source": [
        "#save\n",
        "pickle.dump((graphs, graph_dist), open(\"graph_seq_dist_SBM.pkl\", \"wb\"))"
      ],
      "metadata": {
        "id": "v6kNSVpExbuB"
      },
      "execution_count": 31,
      "outputs": []
    },
    {
      "cell_type": "code",
      "source": [
        "##for MPNN embeddings\n",
        "n = 30\n",
        "#constant node features\n",
        "x = torch.ones((n, 1), dtype=torch.float)\n",
        "#data loader\n",
        "graphs_pyg = []\n",
        "for G in graphs:\n",
        "  A = nx.to_scipy_sparse_array(G)\n",
        "  graphs_pyg.append(Data(x=x, edge_index=from_scipy_sparse_matrix(A)[0]))\n",
        "\n",
        "graph_loader = DataLoader(graphs_pyg, batch_size=num_G)\n"
      ],
      "metadata": {
        "id": "YUQYJydrd-kQ"
      },
      "execution_count": 32,
      "outputs": []
    },
    {
      "cell_type": "code",
      "source": [
        "torch.manual_seed(0)\n",
        "\n",
        "# Set device.\n",
        "device = torch.device('cuda' if torch.cuda.is_available() else 'cpu')\n",
        "\n",
        "#untrain GNN\n",
        "input_dim = 1 \n",
        "hid_dim = 64\n",
        "num_layers = 3\n",
        "GIN_block = GIN_rep(input_dim, num_layers, hid_dim, untrain=True)#.to(device)\n",
        "GC_block = GC_rep(input_dim, num_layers, hid_dim, untrain=True)"
      ],
      "metadata": {
        "id": "81N23nxnkhIr"
      },
      "execution_count": 33,
      "outputs": []
    },
    {
      "cell_type": "code",
      "source": [
        "#forward pass: obtain untrained graph embedding\n",
        "MPNN_embeds = {'GIN':[], 'GC':[]}\n",
        "for data in graph_loader:\n",
        "  #data = data.to(device)\n",
        "  MPNN_embeds['GIN'].append(GIN_block(data))\n",
        "  MPNN_embeds['GC'].append(GC_block(data))"
      ],
      "metadata": {
        "id": "xm0xs6dTks4Z"
      },
      "execution_count": 34,
      "outputs": []
    },
    {
      "cell_type": "code",
      "source": [
        "GIN_dist = compute_seq_distance(MPNN_embeds['GIN'][0], metric=\"Euclidean\")\n",
        "GC_dist = compute_seq_distance(MPNN_embeds['GC'][0], metric=\"Euclidean\")"
      ],
      "metadata": {
        "id": "HAL-XLlqq0Ud"
      },
      "execution_count": 35,
      "outputs": []
    },
    {
      "cell_type": "code",
      "source": [
        "\n",
        "fig, axs = plt.subplots(ncols=2, sharex=True, sharey=True, figsize=(8,4), dpi=150)\n",
        "axs[0].scatter(graph_dist/graph_dist.max(), GIN_dist/GIN_dist.max())\n",
        "axs[0].set_title(\"GIN\")\n",
        "\n",
        "axs[1].scatter(graph_dist/graph_dist.max(), GC_dist/GC_dist.max())\n",
        "axs[1].set_title(\"GraphConv\")\n",
        "\n",
        "lims = [0, 1.1]\n",
        "\n",
        "for ax in axs:\n",
        "  ax.plot(lims, lims, 'k--', alpha=0.5, zorder=0)\n",
        "  ax.set_aspect('equal')\n",
        "  ax.set_xlabel(r\"Graph distance $\\frac{\\delta_W(G_i, G)}{\\max_{i} \\, \\delta_W(G_i, G)}$\", ha='center')\n",
        "  ax.set_ylabel(r\"MPNN embedding distance $\\frac{\\| \\varphi(G_i) - \\varphi(G) \\|}{\\max_{i} \\, \\| \\varphi(G_i) - \\varphi(G) \\|}$\", va='center', rotation='vertical', labelpad=10)\n",
        "\n",
        "plt.xlim(lims[0],lims[1])\n",
        "plt.ylim(lims[0],lims[1])\n",
        "\n",
        "#plt.xlabel()\n",
        "#plt.ylabel()\n",
        "#fig.tight_layout()\n",
        "plt.show()\n",
        "#len(pair_dist[upper_mask])"
      ],
      "metadata": {
        "colab": {
          "base_uri": "https://localhost:8080/",
          "height": 591
        },
        "id": "x-gwgCjAr-MG",
        "outputId": "82e15c40-0836-40fc-87f5-f7bfee4b8fed"
      },
      "execution_count": 36,
      "outputs": [
        {
          "output_type": "display_data",
          "data": {
            "text/plain": [
              "<Figure size 1200x600 with 2 Axes>"
            ],
            "image/png": "[encoded data removed]"
          },
          "metadata": {}
        }
      ]
    },
    {
      "cell_type": "code",
      "source": [],
      "metadata": {
        "id": "WomRcOQnwQ3d"
      },
      "execution_count": null,
      "outputs": []
    }
  ]
}
