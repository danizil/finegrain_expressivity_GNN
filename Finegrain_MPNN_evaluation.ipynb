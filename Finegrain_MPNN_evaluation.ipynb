{
  "nbformat": 4,
  "nbformat_minor": 0,
  "metadata": {
    "colab": {
      "provenance": [],
      "machine_shape": "hm",
      "authorship_tag": "ABX9TyPbmpsIP3IT3RuppU2dtOzf",
      "include_colab_link": true
    },
    "kernelspec": {
      "name": "python3",
      "display_name": "Python 3"
    },
    "language_info": {
      "name": "python"
    },
    "accelerator": "GPU",
    "gpuClass": "premium"
  },
  "cells": [
    {
      "cell_type": "markdown",
      "metadata": {
        "id": "view-in-github",
        "colab_type": "text"
      },
      "source": [
        "<a href=\"https://colab.research.google.com/github/nhuang37/untrain_MPNN/blob/main/Finegrain_MPNN_evaluation.ipynb\" target=\"_parent\"><img src=\"https://colab.research.google.com/assets/colab-badge.svg\" alt=\"Open In Colab\"/></a>"
      ]
    },
    {
      "cell_type": "code",
      "execution_count": 1,
      "metadata": {
        "colab": {
          "base_uri": "https://localhost:8080/"
        },
        "id": "znou_p5acQEv",
        "outputId": "e68fa2d2-c44c-40fe-e0ea-4609cb85c806"
      },
      "outputs": [
        {
          "output_type": "stream",
          "name": "stdout",
          "text": [
            "Mounted at /content/drive\n"
          ]
        }
      ],
      "source": [
        "from google.colab import drive\n",
        "drive.flush_and_unmount()\n",
        "drive.mount(\"/content/drive\")"
      ]
    },
    {
      "cell_type": "code",
      "source": [
        "%cd /content/drive/MyDrive/JHU/Untrain_GNN/"
      ],
      "metadata": {
        "colab": {
          "base_uri": "https://localhost:8080/"
        },
        "id": "DXTmYRjccc3k",
        "outputId": "bbc9b735-6c46-4fb6-f6c2-b88e81a8930f"
      },
      "execution_count": 2,
      "outputs": [
        {
          "output_type": "stream",
          "name": "stdout",
          "text": [
            "/content/drive/MyDrive/JHU/Untrain_GNN\n"
          ]
        }
      ]
    },
    {
      "cell_type": "code",
      "source": [
        "!pip install scipy==1.10.0"
      ],
      "metadata": {
        "colab": {
          "base_uri": "https://localhost:8080/"
        },
        "id": "fBVlymxOcxcs",
        "outputId": "dfdbe3b9-aaa4-4066-9854-8bc6e76102ab"
      },
      "execution_count": 3,
      "outputs": [
        {
          "output_type": "stream",
          "name": "stdout",
          "text": [
            "Looking in indexes: https://pypi.org/simple, https://us-python.pkg.dev/colab-wheels/public/simple/\n",
            "Requirement already satisfied: scipy==1.10.0 in /usr/local/lib/python3.9/dist-packages (1.10.0)\n",
            "Requirement already satisfied: numpy<1.27.0,>=1.19.5 in /usr/local/lib/python3.9/dist-packages (from scipy==1.10.0) (1.22.4)\n"
          ]
        }
      ]
    },
    {
      "cell_type": "code",
      "source": [
        "import os\n",
        "import torch\n",
        "os.environ['TORCH'] = torch.__version__\n",
        "print(torch.__version__)\n",
        "\n",
        "!pip install -q torch-scatter -f https://data.pyg.org/whl/torch-${TORCH}.html\n",
        "!pip install -q torch-sparse -f https://data.pyg.org/whl/torch-${TORCH}.html\n",
        "!pip install -q torch-cluster -f https://data.pyg.org/whl/torch-${TORCH}.html\n",
        "!pip install -q git+https://github.com/pyg-team/pytorch_geometric.git"
      ],
      "metadata": {
        "colab": {
          "base_uri": "https://localhost:8080/"
        },
        "id": "YQZcsO3NgbDw",
        "outputId": "b80d5d97-4a99-44a0-d499-ae96e0113483"
      },
      "execution_count": 4,
      "outputs": [
        {
          "output_type": "stream",
          "name": "stdout",
          "text": [
            "2.0.0+cu118\n",
            "  Installing build dependencies ... \u001b[?25l\u001b[?25hdone\n",
            "  Getting requirements to build wheel ... \u001b[?25l\u001b[?25hdone\n",
            "  Preparing metadata (pyproject.toml) ... \u001b[?25l\u001b[?25hdone\n"
          ]
        }
      ]
    },
    {
      "cell_type": "code",
      "source": [
        "import numpy as np\n",
        "import networkx as nx\n",
        "import copy\n",
        "import pydot\n",
        "from networkx.drawing.nx_pydot import graphviz_layout\n",
        "import matplotlib.pyplot as plt\n",
        "from collections import Counter\n",
        "from networkx.generators.nonisomorphic_trees import nonisomorphic_trees\n",
        "import os\n",
        "from sympy.utilities.iterables import multiset_permutations\n",
        "import itertools\n",
        "from itertools import permutations\n",
        "import random\n",
        "\n",
        "from sklearn.neighbors import KNeighborsClassifier\n",
        "from sklearn.metrics import accuracy_score\n",
        "from sklearn.model_selection import train_test_split\n",
        "import pickle\n",
        "np.set_printoptions(precision=4, suppress=True)\n",
        "\n",
        "import distance #credit to Jan\n",
        "#from gnn_architectures import GIN, GINE, GC\n"
      ],
      "metadata": {
        "id": "wehDFMQ9c7jW"
      },
      "execution_count": 5,
      "outputs": []
    },
    {
      "cell_type": "code",
      "source": [
        "import torch.nn as nn\n",
        "import torch.nn.functional as F\n",
        "from torch.nn import Linear, Sequential, ReLU, BatchNorm1d as BN\n",
        "\n",
        "from torch_geometric.utils.convert import from_networkx, from_scipy_sparse_matrix\n",
        "from torch_geometric.data import Data, InMemoryDataset\n",
        "from torch_geometric.loader import DataLoader\n",
        "\n",
        "from torch_geometric.nn import GINConv, GraphConv, GCNConv, global_add_pool\n",
        "from torch_geometric.nn import MessagePassing\n",
        "from torch_geometric.nn.inits import reset\n"
      ],
      "metadata": {
        "id": "kHpJSGeokHLQ"
      },
      "execution_count": 6,
      "outputs": []
    },
    {
      "cell_type": "code",
      "source": [
        "seed = 406\n",
        "random.seed(seed)\n",
        "np.random.seed(seed)\n",
        "torch.manual_seed(seed)\n",
        "torch.cuda.manual_seed_all(seed)"
      ],
      "metadata": {
        "id": "bfDwguxVtM-M"
      },
      "execution_count": 7,
      "outputs": []
    },
    {
      "cell_type": "code",
      "source": [
        "# Taken from https://github.com/rusty1s/pytorch_geometric/blob/master/benchmark/kernel/gin.py.\n",
        "class GIN_rep(torch.nn.Module):\n",
        "    def __init__(self, input_dim, num_layers, hidden, untrain):\n",
        "        super(GIN_rep, self).__init__()\n",
        "        self.conv1 = GINConv(Sequential(\n",
        "            Linear(input_dim, hidden),\n",
        "            ReLU(),\n",
        "            Linear(hidden, hidden),\n",
        "            ReLU(),\n",
        "            BN(hidden),\n",
        "        ),\n",
        "            train_eps=True)\n",
        "\n",
        "        self.untrain = untrain\n",
        "\n",
        "        self.convs = torch.nn.ModuleList()\n",
        "        for i in range(num_layers - 1):\n",
        "            self.convs.append(\n",
        "                GINConv(Sequential(\n",
        "                    Linear(hidden, hidden),\n",
        "                    ReLU(),\n",
        "                    Linear(hidden, hidden),\n",
        "                    ReLU(),\n",
        "                    BN(hidden),\n",
        "                ),\n",
        "                    train_eps=True))\n",
        "\n",
        "\n",
        "    def reset_parameters(self):\n",
        "        self.conv1.reset_parameters()\n",
        "        for conv in self.convs:\n",
        "            conv.reset_parameters()\n",
        "\n",
        "        if self.untrain:\n",
        "            for param in self.conv1.parameters():\n",
        "                param.requires_grad = False\n",
        "\n",
        "            for conv in self.convs:\n",
        "                for param in conv.parameters():\n",
        "                    param.requires_grad = False\n",
        "\n",
        "    def forward(self, data):\n",
        "        x, edge_index, batch = data.x, data.edge_index, data.batch\n",
        "        x = self.conv1(x, edge_index)\n",
        "        for conv in self.convs:\n",
        "            x = conv(x, edge_index)\n",
        "\n",
        "        x = global_add_pool(x, batch)\n",
        "\n",
        "        return x\n",
        "\n",
        "    def __repr__(self):\n",
        "        return self.__class__.__name__\n"
      ],
      "metadata": {
        "id": "rUmyRv-FqEKU"
      },
      "execution_count": 8,
      "outputs": []
    },
    {
      "cell_type": "code",
      "source": [
        "class GC_rep(torch.nn.Module):\n",
        "    def __init__(self, input_dim, num_layers, hidden, untrain):\n",
        "        super(GC_rep, self).__init__()\n",
        "        self.conv1 = GraphConv(input_dim, hidden)\n",
        "        self.convs = torch.nn.ModuleList()\n",
        "        for i in range(num_layers - 1):\n",
        "            self.convs.append(GraphConv(hidden, hidden))\n",
        "\n",
        "        self.untrain = untrain\n",
        "\n",
        "    def reset_parameters(self):\n",
        "        self.conv1.reset_parameters()\n",
        "        for conv in self.convs:\n",
        "            conv.reset_parameters()\n",
        "\n",
        "        if self.untrain:\n",
        "            for param in self.conv1.parameters():\n",
        "                param.requires_grad = False\n",
        "\n",
        "            for conv in self.convs:\n",
        "                for param in conv.parameters():\n",
        "                    param.requires_grad = False\n",
        "\n",
        "    def forward(self, data):\n",
        "        x, edge_index, batch = data.x, data.edge_index, data.batch\n",
        "        x = self.conv1(x, edge_index)\n",
        "\n",
        "        for conv in self.convs:\n",
        "            x = conv(x, edge_index)\n",
        "\n",
        "        x = global_add_pool(x, batch)\n",
        "\n",
        "        return x\n",
        "\n",
        "    def __repr__(self):\n",
        "        return self.__class__.__name__"
      ],
      "metadata": {
        "id": "5Yw4HrKZx2SW"
      },
      "execution_count": 36,
      "outputs": []
    },
    {
      "cell_type": "code",
      "source": [
        "#config\n",
        "def generate_graphs(num_G = 10, n = 30, p = 0.5, q = 0.1, seed=0):\n",
        "  '''\n",
        "  Simulate graphs: \n",
        "  '''\n",
        "  graph_set = []\n",
        "  qs = np.linspace(p, q, num_G) #generate a sequence of SBM graphs\n",
        "  for i in range(num_G):\n",
        "    graph_set.append(\n",
        "          nx.stochastic_block_model([n//2, n//2], [[p,q],[q,p]], seed=i)\n",
        "      )\n",
        "  return graph_set\n",
        "  "
      ],
      "metadata": {
        "id": "eOXahV2jdXIG"
      },
      "execution_count": 9,
      "outputs": []
    },
    {
      "cell_type": "code",
      "source": [
        "num_G = 10\n",
        "n = 30\n",
        "p = 0.5\n",
        "q = 0.1\n",
        "graphs = generate_graphs(num_G, n, p, q)\n"
      ],
      "metadata": {
        "id": "ElCZArDNnJ56"
      },
      "execution_count": 10,
      "outputs": []
    },
    {
      "cell_type": "code",
      "source": [
        "type(torch.ones(2))"
      ],
      "metadata": {
        "colab": {
          "base_uri": "https://localhost:8080/"
        },
        "id": "cWdixXlazOqD",
        "outputId": "84e9a52a-6244-4a6f-bde2-71b49060481c"
      },
      "execution_count": 39,
      "outputs": [
        {
          "output_type": "execute_result",
          "data": {
            "text/plain": [
              "torch.Tensor"
            ]
          },
          "metadata": {},
          "execution_count": 39
        }
      ]
    },
    {
      "cell_type": "code",
      "source": [
        "def compute_pairwise_distance(graph_set, metric=\"Wasserstein\"):\n",
        "  '''\n",
        "  Compute the pairwise distance metric of the graph set\n",
        "  Return a nxn symmetric matrix, where n = |graph_set|\n",
        "  '''\n",
        "  num_G = len(graph_set)\n",
        "  pair_dist = np.zeros((num_G, num_G))\n",
        "  for i in range(num_G):\n",
        "    for j in range(i+1, num_G):\n",
        "      if metric == \"Wasserstein\":\n",
        "        dist = distance.demoRun(graph_set[i], graph_set[j],\"Wasserstein distance\", \"flow, at most 3 iterations after refinement\", \n",
        "                              distance.wassersteinMinCostFlow, convIterationBound = 3)\n",
        "      elif metric == \"Euclidean\":\n",
        "        assert type(graph_set[0]) == torch.Tensor, \"must pass in graph Euclidean embedding!\"\n",
        "        dist = torch.linalg.vector_norm(graph_set[i] - graph_set[j])\n",
        "      pair_dist[i,j] = dist\n",
        "      pair_dist[j,i] = dist\n",
        "  return pair_dist"
      ],
      "metadata": {
        "id": "3an2hE4Tee05"
      },
      "execution_count": 40,
      "outputs": []
    },
    {
      "cell_type": "code",
      "source": [
        "pair_dist = compute_pairwise_distance(graphs)"
      ],
      "metadata": {
        "colab": {
          "base_uri": "https://localhost:8080/"
        },
        "id": "Mgmmo0Lhd9Uw",
        "outputId": "144ad43d-806f-453d-9554-c385bc821d87"
      },
      "execution_count": 12,
      "outputs": [
        {
          "output_type": "stream",
          "name": "stdout",
          "text": [
            "Wasserstein distance: \t0.03857 [14.81 seconds] (flow, at most 3 iterations after refinement)\n",
            "Wasserstein distance: \t0.03566 [11.03 seconds] (flow, at most 3 iterations after refinement)\n",
            "Wasserstein distance: \t0.03231 [10.97 seconds] (flow, at most 3 iterations after refinement)\n",
            "Wasserstein distance: \t0.02972 [14.14 seconds] (flow, at most 3 iterations after refinement)\n",
            "Wasserstein distance: \t0.03528 [11.05 seconds] (flow, at most 3 iterations after refinement)\n",
            "Wasserstein distance: \t0.04015 [11.39 seconds] (flow, at most 3 iterations after refinement)\n",
            "Wasserstein distance: \t0.05273 [14.87 seconds] (flow, at most 3 iterations after refinement)\n",
            "Wasserstein distance: \t0.03106 [11.32 seconds] (flow, at most 3 iterations after refinement)\n",
            "Wasserstein distance: \t0.05459 [14.78 seconds] (flow, at most 3 iterations after refinement)\n",
            "Wasserstein distance: \t0.03106 [14.64 seconds] (flow, at most 3 iterations after refinement)\n",
            "Wasserstein distance: \t0.02775 [14.24 seconds] (flow, at most 3 iterations after refinement)\n",
            "Wasserstein distance: \t0.02133 [14.22 seconds] (flow, at most 3 iterations after refinement)\n",
            "Wasserstein distance: \t0.01668 [14.43 seconds] (flow, at most 3 iterations after refinement)\n",
            "Wasserstein distance: \t0.02364 [14.99 seconds] (flow, at most 3 iterations after refinement)\n",
            "Wasserstein distance: \t0.02939 [15.18 seconds] (flow, at most 3 iterations after refinement)\n",
            "Wasserstein distance: \t0.01803 [14.92 seconds] (flow, at most 3 iterations after refinement)\n",
            "Wasserstein distance: \t0.02604 [14.90 seconds] (flow, at most 3 iterations after refinement)\n",
            "Wasserstein distance: \t0.03749 [10.89 seconds] (flow, at most 3 iterations after refinement)\n",
            "Wasserstein distance: \t0.03059 [14.29 seconds] (flow, at most 3 iterations after refinement)\n",
            "Wasserstein distance: \t0.03001 [11.22 seconds] (flow, at most 3 iterations after refinement)\n",
            "Wasserstein distance: \t0.04223 [11.54 seconds] (flow, at most 3 iterations after refinement)\n",
            "Wasserstein distance: \t0.04666 [15.03 seconds] (flow, at most 3 iterations after refinement)\n",
            "Wasserstein distance: \t0.02762 [11.33 seconds] (flow, at most 3 iterations after refinement)\n",
            "Wasserstein distance: \t0.05024 [14.94 seconds] (flow, at most 3 iterations after refinement)\n",
            "Wasserstein distance: \t0.01948 [13.94 seconds] (flow, at most 3 iterations after refinement)\n",
            "Wasserstein distance: \t0.03574 [11.19 seconds] (flow, at most 3 iterations after refinement)\n",
            "Wasserstein distance: \t0.03792 [11.45 seconds] (flow, at most 3 iterations after refinement)\n",
            "Wasserstein distance: \t0.04125 [14.84 seconds] (flow, at most 3 iterations after refinement)\n",
            "Wasserstein distance: \t0.02357 [14.61 seconds] (flow, at most 3 iterations after refinement)\n",
            "Wasserstein distance: \t0.03729 [14.57 seconds] (flow, at most 3 iterations after refinement)\n",
            "Wasserstein distance: \t0.02401 [14.47 seconds] (flow, at most 3 iterations after refinement)\n",
            "Wasserstein distance: \t0.02942 [14.91 seconds] (flow, at most 3 iterations after refinement)\n",
            "Wasserstein distance: \t0.03814 [14.74 seconds] (flow, at most 3 iterations after refinement)\n",
            "Wasserstein distance: \t0.02033 [14.52 seconds] (flow, at most 3 iterations after refinement)\n",
            "Wasserstein distance: \t0.03297 [14.60 seconds] (flow, at most 3 iterations after refinement)\n",
            "Wasserstein distance: \t0.01942 [11.70 seconds] (flow, at most 3 iterations after refinement)\n",
            "Wasserstein distance: \t0.02907 [15.40 seconds] (flow, at most 3 iterations after refinement)\n",
            "Wasserstein distance: \t0.02051 [11.88 seconds] (flow, at most 3 iterations after refinement)\n",
            "Wasserstein distance: \t0.02663 [15.09 seconds] (flow, at most 3 iterations after refinement)\n",
            "Wasserstein distance: \t0.03001 [15.92 seconds] (flow, at most 3 iterations after refinement)\n",
            "Wasserstein distance: \t0.02601 [11.97 seconds] (flow, at most 3 iterations after refinement)\n",
            "Wasserstein distance: \t0.02991 [15.61 seconds] (flow, at most 3 iterations after refinement)\n",
            "Wasserstein distance: \t0.02964 [15.31 seconds] (flow, at most 3 iterations after refinement)\n",
            "Wasserstein distance: \t0.02917 [15.42 seconds] (flow, at most 3 iterations after refinement)\n",
            "Wasserstein distance: \t0.03491 [15.28 seconds] (flow, at most 3 iterations after refinement)\n"
          ]
        }
      ]
    },
    {
      "cell_type": "code",
      "source": [
        "plt.imshow(pair_dist)"
      ],
      "metadata": {
        "colab": {
          "base_uri": "https://localhost:8080/",
          "height": 448
        },
        "id": "hHR3Xg80jzIz",
        "outputId": "beecfb08-38f5-43f2-df91-08ac9a6d8d84"
      },
      "execution_count": 13,
      "outputs": [
        {
          "output_type": "execute_result",
          "data": {
            "text/plain": [
              "<matplotlib.image.AxesImage at 0x7fb037676160>"
            ]
          },
          "metadata": {},
          "execution_count": 13
        },
        {
          "output_type": "display_data",
          "data": {
            "text/plain": [
              "<Figure size 640x480 with 1 Axes>"
            ],
            "image/png": "[encoded data removed]"
          },
          "metadata": {}
        }
      ]
    },
    {
      "cell_type": "code",
      "source": [
        "#save\n",
        "pickle.dump((graphs, pair_dist), open(\"graph_pair_dist_SBM.pkl\", \"wb\"))"
      ],
      "metadata": {
        "id": "v6kNSVpExbuB"
      },
      "execution_count": 27,
      "outputs": []
    },
    {
      "cell_type": "code",
      "source": [
        "##for MPNN embeddings\n",
        "n = 30\n",
        "#constant node features\n",
        "x = torch.ones((n, 1), dtype=torch.float)\n",
        "#data loader\n",
        "graphs_pyg = []\n",
        "for G in graphs:\n",
        "  A = nx.to_scipy_sparse_array(G)\n",
        "  graphs_pyg.append(Data(x=x, edge_index=from_scipy_sparse_matrix(A)[0]))\n",
        "\n",
        "graph_loader = DataLoader(graphs_pyg, batch_size=num_G)\n"
      ],
      "metadata": {
        "id": "YUQYJydrd-kQ"
      },
      "execution_count": 14,
      "outputs": []
    },
    {
      "cell_type": "code",
      "source": [
        "torch.manual_seed(0)\n",
        "\n",
        "# Set device.\n",
        "device = torch.device('cuda' if torch.cuda.is_available() else 'cpu')\n",
        "\n",
        "#untrain GNN\n",
        "input_dim = 1 \n",
        "hid_dim = 64\n",
        "num_layers = 3\n",
        "GIN_block = GIN_rep(input_dim, num_layers, hid_dim, untrain=True)#.to(device)\n",
        "GC_block = GC_rep(input_dim, num_layers, hid_dim, untrain=True)"
      ],
      "metadata": {
        "id": "81N23nxnkhIr"
      },
      "execution_count": 37,
      "outputs": []
    },
    {
      "cell_type": "code",
      "source": [
        "#forward pass: obtain untrained graph embedding\n",
        "MPNN_embeds = {'GIN':[], 'GC':[]}\n",
        "for data in graph_loader:\n",
        "  #data = data.to(device)\n",
        "  MPNN_embeds['GIN'].append(GIN_block(data))\n",
        "  MPNN_embeds['GC'].append(GC_block(data))"
      ],
      "metadata": {
        "id": "xm0xs6dTks4Z"
      },
      "execution_count": 38,
      "outputs": []
    },
    {
      "cell_type": "code",
      "source": [
        "pair_dist_GIN = compute_pairwise_distance(MPNN_embeds['GIN'][0], metric=\"Euclidean\")\n",
        "pair_dist_GC = compute_pairwise_distance(MPNN_embeds['GC'][0], metric=\"Euclidean\")"
      ],
      "metadata": {
        "id": "HAL-XLlqq0Ud"
      },
      "execution_count": 42,
      "outputs": []
    },
    {
      "cell_type": "code",
      "source": [
        "plt.imshow(pair_dist_GIN)"
      ],
      "metadata": {
        "colab": {
          "base_uri": "https://localhost:8080/",
          "height": 448
        },
        "id": "ENuMYh0jr9W9",
        "outputId": "e70bdd90-c21c-44a6-98c8-a443ec8dd23a"
      },
      "execution_count": 44,
      "outputs": [
        {
          "output_type": "execute_result",
          "data": {
            "text/plain": [
              "<matplotlib.image.AxesImage at 0x7fb037a93d00>"
            ]
          },
          "metadata": {},
          "execution_count": 44
        },
        {
          "output_type": "display_data",
          "data": {
            "text/plain": [
              "<Figure size 640x480 with 1 Axes>"
            ],
            "image/png": "[encoded data removed]"
          },
          "metadata": {}
        }
      ]
    },
    {
      "cell_type": "code",
      "source": [
        "plt.imshow(pair_dist_GC)"
      ],
      "metadata": {
        "colab": {
          "base_uri": "https://localhost:8080/",
          "height": 448
        },
        "id": "uDpweQRAzrrr",
        "outputId": "71f09804-fef3-41ba-cae9-04a8107bb13c"
      },
      "execution_count": 45,
      "outputs": [
        {
          "output_type": "execute_result",
          "data": {
            "text/plain": [
              "<matplotlib.image.AxesImage at 0x7fb034d6f6d0>"
            ]
          },
          "metadata": {},
          "execution_count": 45
        },
        {
          "output_type": "display_data",
          "data": {
            "text/plain": [
              "<Figure size 640x480 with 1 Axes>"
            ],
            "image/png": "[encoded data removed]"
          },
          "metadata": {}
        }
      ]
    },
    {
      "cell_type": "code",
      "source": [
        "upper_mask = np.triu_indices(num_G, 1)\n",
        "\n",
        "fig, axs = plt.subplots(ncols=2, sharex=True, sharey=True, figsize=(8,4), dpi=150)\n",
        "axs[0].scatter(pair_dist[upper_mask]/pair_dist[upper_mask].max(), pair_dist_GIN[upper_mask]/pair_dist_GIN[upper_mask].max())\n",
        "axs[0].set_title(\"GIN\")\n",
        "\n",
        "axs[1].scatter(pair_dist[upper_mask]/pair_dist[upper_mask].max(), pair_dist_GC[upper_mask]/pair_dist_GC[upper_mask].max())\n",
        "axs[1].set_title(\"GraphConv\")\n",
        "\n",
        "lims = [0, 1.1]\n",
        "\n",
        "for ax in axs:\n",
        "  ax.plot(lims, lims, 'k--', alpha=0.5, zorder=0)\n",
        "  ax.set_aspect('equal')\n",
        "  ax.set_xlabel(r\"Graph distance $\\frac{\\delta_W(G_i, G_j)}{\\max_{j>i} \\, \\delta_W(G_i, G_j)}$\", ha='center')\n",
        "  ax.set_ylabel(r\"MPNN embedding distance $\\frac{\\| \\varphi(G_i) - \\varphi(G_j) \\|}{\\max_{j>i} \\, \\| \\varphi(G_i) - \\varphi(G_j) \\|}$\", va='center', rotation='vertical', labelpad=10)\n",
        "\n",
        "plt.xlim(lims[0],lims[1])\n",
        "plt.ylim(lims[0],lims[1])\n",
        "\n",
        "#plt.xlabel()\n",
        "#plt.ylabel()\n",
        "#fig.tight_layout()\n",
        "plt.show()\n",
        "#len(pair_dist[upper_mask])"
      ],
      "metadata": {
        "colab": {
          "base_uri": "https://localhost:8080/",
          "height": 595
        },
        "id": "x-gwgCjAr-MG",
        "outputId": "2cf17a62-457c-49ba-edfc-a96ff018be95"
      },
      "execution_count": 72,
      "outputs": [
        {
          "output_type": "display_data",
          "data": {
            "text/plain": [
              "<Figure size 1200x600 with 2 Axes>"
            ],
            "image/png": "[encoded data removed]"
          },
          "metadata": {}
        }
      ]
    },
    {
      "cell_type": "code",
      "source": [],
      "metadata": {
        "id": "WomRcOQnwQ3d"
      },
      "execution_count": null,
      "outputs": []
    }
  ]
}